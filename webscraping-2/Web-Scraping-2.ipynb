{
 "cells": [
  {
   "cell_type": "code",
   "execution_count": 100,
   "metadata": {},
   "outputs": [],
   "source": [
    "from bs4 import BeautifulSoup\n",
    "import requests\n",
    "import pandas as pd\n",
    "import time\n",
    "import selenium\n",
    "import pandas as pd\n",
    "from selenium import webdriver\n",
    "from selenium.common.exceptions import NoSuchElementException"
   ]
  },
  {
   "cell_type": "code",
   "execution_count": 340,
   "metadata": {},
   "outputs": [],
   "source": [
    "##search_button=driver.find_element_by_class_name(\"btn\")\n",
    "#search_button=driver.find_element_by_xpath(\"//div[@class='col-xl-2 col-lg-3 col-sm-2 col-xxs-12 fl no-padding']/input\")\n",
    "#search_button.click()"
   ]
  },
  {
   "cell_type": "code",
   "execution_count": 341,
   "metadata": {},
   "outputs": [],
   "source": [
    "driver=webdriver.Chrome(\"C:\\Program Files (x86)\\chromedriver_win32\\chromedriver.exe\")"
   ]
  },
  {
   "cell_type": "code",
   "execution_count": 342,
   "metadata": {},
   "outputs": [],
   "source": [
    "driver.get(\"https://www.naukri.com/\")\n"
   ]
  },
  {
   "cell_type": "code",
   "execution_count": 343,
   "metadata": {},
   "outputs": [],
   "source": [
    "job_field=driver.find_element_by_id(\"qsb-keyword-sugg\")\n",
    "job_field.send_keys(\"Data Analyst\")\n"
   ]
  },
  {
   "cell_type": "code",
   "execution_count": 344,
   "metadata": {},
   "outputs": [],
   "source": [
    "loc_field=driver.find_element_by_id(\"qsb-location-sugg\")\n",
    "loc_field.send_keys(\"Bangalore\")\n"
   ]
  },
  {
   "cell_type": "code",
   "execution_count": 345,
   "metadata": {},
   "outputs": [],
   "source": [
    "search_button=driver.find_element_by_class_name(\"btn\")\n",
    "#search_button=driver.find_element_by_xpath(\"//div[@class='col-xl-2 col-lg-3 col-sm-2 col-xxs-12 fl no-padding']/input\")\n",
    "search_button.click()\n",
    "time.sleep(10)"
   ]
  },
  {
   "cell_type": "code",
   "execution_count": 346,
   "metadata": {},
   "outputs": [],
   "source": [
    "\n",
    "job_div=driver.find_elements_by_xpath(\"//article[@class='jobTuple bgWhite br4 mb-8']/div/div/a\")\n"
   ]
  },
  {
   "cell_type": "code",
   "execution_count": 347,
   "metadata": {},
   "outputs": [
    {
     "data": {
      "text/plain": [
       "[<selenium.webdriver.remote.webelement.WebElement (session=\"cc486b55a3b951af42a2a1f3218762f2\", element=\"fdb0c37e-3e15-42fb-a536-b5c509a97bc8\")>,\n",
       " <selenium.webdriver.remote.webelement.WebElement (session=\"cc486b55a3b951af42a2a1f3218762f2\", element=\"16134b92-be78-474f-98ee-d4719c7e255c\")>,\n",
       " <selenium.webdriver.remote.webelement.WebElement (session=\"cc486b55a3b951af42a2a1f3218762f2\", element=\"1ceb2367-47d2-4db9-9e58-0a4d5718425a\")>,\n",
       " <selenium.webdriver.remote.webelement.WebElement (session=\"cc486b55a3b951af42a2a1f3218762f2\", element=\"ab5c8979-19e5-4c49-8b51-51aac5818d4d\")>,\n",
       " <selenium.webdriver.remote.webelement.WebElement (session=\"cc486b55a3b951af42a2a1f3218762f2\", element=\"43441cf6-04af-45fd-89a6-35d4f7229684\")>,\n",
       " <selenium.webdriver.remote.webelement.WebElement (session=\"cc486b55a3b951af42a2a1f3218762f2\", element=\"e9979ee1-b4d9-4168-af37-a51986db622b\")>,\n",
       " <selenium.webdriver.remote.webelement.WebElement (session=\"cc486b55a3b951af42a2a1f3218762f2\", element=\"00c27160-86a9-4c28-b3ed-be63e5bfac9c\")>,\n",
       " <selenium.webdriver.remote.webelement.WebElement (session=\"cc486b55a3b951af42a2a1f3218762f2\", element=\"abba75ae-9e33-46ae-ab96-2e4a21378b6f\")>,\n",
       " <selenium.webdriver.remote.webelement.WebElement (session=\"cc486b55a3b951af42a2a1f3218762f2\", element=\"f4391c5c-9a3b-446a-bef4-f1746b1d7748\")>,\n",
       " <selenium.webdriver.remote.webelement.WebElement (session=\"cc486b55a3b951af42a2a1f3218762f2\", element=\"e209cf7c-370b-42ee-8b3c-3d261fe7a28b\")>,\n",
       " <selenium.webdriver.remote.webelement.WebElement (session=\"cc486b55a3b951af42a2a1f3218762f2\", element=\"b7472c70-8291-44c2-b223-da7e55d0aad9\")>,\n",
       " <selenium.webdriver.remote.webelement.WebElement (session=\"cc486b55a3b951af42a2a1f3218762f2\", element=\"b5660eb4-7bbc-456e-a645-b016812cbdd1\")>,\n",
       " <selenium.webdriver.remote.webelement.WebElement (session=\"cc486b55a3b951af42a2a1f3218762f2\", element=\"c0adeef3-37f2-4aa2-9df7-e863c968ec56\")>,\n",
       " <selenium.webdriver.remote.webelement.WebElement (session=\"cc486b55a3b951af42a2a1f3218762f2\", element=\"d54fb074-b516-46f9-8eda-bb506532425c\")>,\n",
       " <selenium.webdriver.remote.webelement.WebElement (session=\"cc486b55a3b951af42a2a1f3218762f2\", element=\"063c7fd6-884d-4ff0-a69b-26b21e328f9c\")>,\n",
       " <selenium.webdriver.remote.webelement.WebElement (session=\"cc486b55a3b951af42a2a1f3218762f2\", element=\"89ff2129-bf2c-4056-a902-6a0fe5ab5f3d\")>,\n",
       " <selenium.webdriver.remote.webelement.WebElement (session=\"cc486b55a3b951af42a2a1f3218762f2\", element=\"42018606-2d37-43b5-ad4e-d30579152314\")>,\n",
       " <selenium.webdriver.remote.webelement.WebElement (session=\"cc486b55a3b951af42a2a1f3218762f2\", element=\"13c90351-ec4a-43e2-9466-0e6d6ca7dce5\")>,\n",
       " <selenium.webdriver.remote.webelement.WebElement (session=\"cc486b55a3b951af42a2a1f3218762f2\", element=\"a7111297-22b7-4038-a864-c9a90ed0079e\")>,\n",
       " <selenium.webdriver.remote.webelement.WebElement (session=\"cc486b55a3b951af42a2a1f3218762f2\", element=\"292b5e0c-8045-46ad-b1af-3d399d17ac7a\")>]"
      ]
     },
     "execution_count": 347,
     "metadata": {},
     "output_type": "execute_result"
    }
   ],
   "source": [
    "job_div"
   ]
  },
  {
   "cell_type": "code",
   "execution_count": 348,
   "metadata": {},
   "outputs": [],
   "source": [
    "job_list=[]\n",
    "exp_list=[]\n",
    "comp_list=[]\n",
    "job_loc_list=[]\n",
    "count=1"
   ]
  },
  {
   "cell_type": "code",
   "execution_count": 349,
   "metadata": {},
   "outputs": [],
   "source": [
    "count=1\n",
    "for d in job_div:\n",
    "    if(count<11):\n",
    "        job_list.append(d.text)\n",
    "        count=count+1"
   ]
  },
  {
   "cell_type": "code",
   "execution_count": 350,
   "metadata": {},
   "outputs": [
    {
     "data": {
      "text/plain": [
       "['Fresher Data Engineer / Data Scientist / Data Analyst Requirements',\n",
       " 'Immediate opening For Data Scientist/Data Analyst',\n",
       " 'Business Data Analyst',\n",
       " 'SAS AML Data Analyst / Trainee & Data Science, Python Trainee',\n",
       " 'Hiring Data Analysts',\n",
       " 'Hiring Data Analysts',\n",
       " 'Data Analyst',\n",
       " 'Study Data Analyst',\n",
       " 'Data Analyst',\n",
       " 'Business Data Analyst | Reinsurance Domain']"
      ]
     },
     "execution_count": 350,
     "metadata": {},
     "output_type": "execute_result"
    }
   ],
   "source": [
    "job_list"
   ]
  },
  {
   "cell_type": "code",
   "execution_count": 351,
   "metadata": {},
   "outputs": [],
   "source": [
    "exp_div=driver.find_elements_by_xpath(\"//article[@class='jobTuple bgWhite br4 mb-8']/div/div/ul/li[1]/span\")"
   ]
  },
  {
   "cell_type": "code",
   "execution_count": 352,
   "metadata": {},
   "outputs": [],
   "source": [
    "count=1\n",
    "for d in exp_div:\n",
    "    if(count<11):\n",
    "        exp_list.append(d.text)\n",
    "        count=count+1\n"
   ]
  },
  {
   "cell_type": "code",
   "execution_count": 353,
   "metadata": {},
   "outputs": [],
   "source": [
    "comp_div=driver.find_elements_by_xpath(\"//article[@class='jobTuple bgWhite br4 mb-8']/div/div/div/a[1]\")"
   ]
  },
  {
   "cell_type": "code",
   "execution_count": 354,
   "metadata": {},
   "outputs": [],
   "source": [
    "count=1\n",
    "for d in comp_div:\n",
    "    if(count<11):\n",
    "        comp_list.append(d.text)\n",
    "        count=count+1"
   ]
  },
  {
   "cell_type": "code",
   "execution_count": 355,
   "metadata": {},
   "outputs": [],
   "source": [
    "job_loc_div=driver.find_elements_by_xpath(\"//article[@class='jobTuple bgWhite br4 mb-8']/div/div/ul/li[3]/span\")\n"
   ]
  },
  {
   "cell_type": "code",
   "execution_count": 356,
   "metadata": {},
   "outputs": [],
   "source": [
    "count=1\n",
    "for d in job_loc_div:\n",
    "    if(count<11):\n",
    "        job_loc_list.append(d.text)\n",
    "        count=count+1"
   ]
  },
  {
   "cell_type": "code",
   "execution_count": 357,
   "metadata": {},
   "outputs": [],
   "source": [
    "naukri_df=pd.DataFrame({})\n",
    "naukri_df['Job-Title']=job_list\n",
    "naukri_df['job-location']=job_loc_list\n",
    "naukri_df['company_name']=comp_list\n",
    "naukri_df['experience_required']=exp_list"
   ]
  },
  {
   "cell_type": "code",
   "execution_count": 358,
   "metadata": {},
   "outputs": [
    {
     "data": {
      "text/html": [
       "<div>\n",
       "<style scoped>\n",
       "    .dataframe tbody tr th:only-of-type {\n",
       "        vertical-align: middle;\n",
       "    }\n",
       "\n",
       "    .dataframe tbody tr th {\n",
       "        vertical-align: top;\n",
       "    }\n",
       "\n",
       "    .dataframe thead th {\n",
       "        text-align: right;\n",
       "    }\n",
       "</style>\n",
       "<table border=\"1\" class=\"dataframe\">\n",
       "  <thead>\n",
       "    <tr style=\"text-align: right;\">\n",
       "      <th></th>\n",
       "      <th>Job-Title</th>\n",
       "      <th>job-location</th>\n",
       "      <th>company_name</th>\n",
       "      <th>experience_required</th>\n",
       "    </tr>\n",
       "  </thead>\n",
       "  <tbody>\n",
       "    <tr>\n",
       "      <th>0</th>\n",
       "      <td>Fresher Data Engineer / Data Scientist / Data ...</td>\n",
       "      <td>Delhi NCR, Bengaluru, Hyderabad</td>\n",
       "      <td>ACHYUTAS SOFT PRIVATE LIMITED</td>\n",
       "      <td>0-2 Yrs</td>\n",
       "    </tr>\n",
       "    <tr>\n",
       "      <th>1</th>\n",
       "      <td>Immediate opening For Data Scientist/Data Analyst</td>\n",
       "      <td>Chennai, Pune, Bengaluru, Hyderabad</td>\n",
       "      <td>CAIA-Center For Artificial Intelligence &amp; Adva...</td>\n",
       "      <td>0-3 Yrs</td>\n",
       "    </tr>\n",
       "    <tr>\n",
       "      <th>2</th>\n",
       "      <td>Business Data Analyst</td>\n",
       "      <td>Bengaluru</td>\n",
       "      <td>NetApp</td>\n",
       "      <td>2-3 Yrs</td>\n",
       "    </tr>\n",
       "    <tr>\n",
       "      <th>3</th>\n",
       "      <td>SAS AML Data Analyst / Trainee &amp; Data Science,...</td>\n",
       "      <td>Bengaluru(Whitefield)</td>\n",
       "      <td>MagicBase Royal BD Pvt Ltd</td>\n",
       "      <td>0-5 Yrs</td>\n",
       "    </tr>\n",
       "    <tr>\n",
       "      <th>4</th>\n",
       "      <td>Hiring Data Analysts</td>\n",
       "      <td>Bengaluru</td>\n",
       "      <td>Flipkart Internet Private Limited</td>\n",
       "      <td>2-5 Yrs</td>\n",
       "    </tr>\n",
       "    <tr>\n",
       "      <th>5</th>\n",
       "      <td>Hiring Data Analysts</td>\n",
       "      <td>Bengaluru</td>\n",
       "      <td>Flipkart Internet Private Limited</td>\n",
       "      <td>2-5 Yrs</td>\n",
       "    </tr>\n",
       "    <tr>\n",
       "      <th>6</th>\n",
       "      <td>Data Analyst</td>\n",
       "      <td>Bengaluru, India</td>\n",
       "      <td>GlaxoSmithKline Pharmaceuticals Limited</td>\n",
       "      <td>3-5 Yrs</td>\n",
       "    </tr>\n",
       "    <tr>\n",
       "      <th>7</th>\n",
       "      <td>Study Data Analyst</td>\n",
       "      <td>Bengaluru</td>\n",
       "      <td>GlaxoSmithKline Pharmaceuticals Limited</td>\n",
       "      <td>4-8 Yrs</td>\n",
       "    </tr>\n",
       "    <tr>\n",
       "      <th>8</th>\n",
       "      <td>Data Analyst</td>\n",
       "      <td>Bengaluru</td>\n",
       "      <td>Cognizant Technology Solutions India Ltd</td>\n",
       "      <td>3-4 Yrs</td>\n",
       "    </tr>\n",
       "    <tr>\n",
       "      <th>9</th>\n",
       "      <td>Business Data Analyst | Reinsurance Domain</td>\n",
       "      <td>Bengaluru</td>\n",
       "      <td>Mphasis Limited</td>\n",
       "      <td>10-15 Yrs</td>\n",
       "    </tr>\n",
       "  </tbody>\n",
       "</table>\n",
       "</div>"
      ],
      "text/plain": [
       "                                           Job-Title  \\\n",
       "0  Fresher Data Engineer / Data Scientist / Data ...   \n",
       "1  Immediate opening For Data Scientist/Data Analyst   \n",
       "2                              Business Data Analyst   \n",
       "3  SAS AML Data Analyst / Trainee & Data Science,...   \n",
       "4                               Hiring Data Analysts   \n",
       "5                               Hiring Data Analysts   \n",
       "6                                       Data Analyst   \n",
       "7                                 Study Data Analyst   \n",
       "8                                       Data Analyst   \n",
       "9         Business Data Analyst | Reinsurance Domain   \n",
       "\n",
       "                          job-location  \\\n",
       "0      Delhi NCR, Bengaluru, Hyderabad   \n",
       "1  Chennai, Pune, Bengaluru, Hyderabad   \n",
       "2                            Bengaluru   \n",
       "3                Bengaluru(Whitefield)   \n",
       "4                            Bengaluru   \n",
       "5                            Bengaluru   \n",
       "6                     Bengaluru, India   \n",
       "7                            Bengaluru   \n",
       "8                            Bengaluru   \n",
       "9                            Bengaluru   \n",
       "\n",
       "                                        company_name experience_required  \n",
       "0                      ACHYUTAS SOFT PRIVATE LIMITED             0-2 Yrs  \n",
       "1  CAIA-Center For Artificial Intelligence & Adva...             0-3 Yrs  \n",
       "2                                             NetApp             2-3 Yrs  \n",
       "3                         MagicBase Royal BD Pvt Ltd             0-5 Yrs  \n",
       "4                  Flipkart Internet Private Limited             2-5 Yrs  \n",
       "5                  Flipkart Internet Private Limited             2-5 Yrs  \n",
       "6            GlaxoSmithKline Pharmaceuticals Limited             3-5 Yrs  \n",
       "7            GlaxoSmithKline Pharmaceuticals Limited             4-8 Yrs  \n",
       "8           Cognizant Technology Solutions India Ltd             3-4 Yrs  \n",
       "9                                    Mphasis Limited           10-15 Yrs  "
      ]
     },
     "execution_count": 358,
     "metadata": {},
     "output_type": "execute_result"
    }
   ],
   "source": [
    "naukri_df"
   ]
  },
  {
   "cell_type": "code",
   "execution_count": 359,
   "metadata": {},
   "outputs": [],
   "source": [
    "driver.close()"
   ]
  },
  {
   "cell_type": "code",
   "execution_count": 75,
   "metadata": {},
   "outputs": [],
   "source": [
    "#########################################################"
   ]
  },
  {
   "cell_type": "code",
   "execution_count": 76,
   "metadata": {},
   "outputs": [],
   "source": [
    "driver=webdriver.Chrome(\"C:\\Program Files (x86)\\chromedriver_win32\\chromedriver.exe\")"
   ]
  },
  {
   "cell_type": "code",
   "execution_count": 77,
   "metadata": {},
   "outputs": [],
   "source": [
    "driver.get(\"https://www.naukri.com/\")"
   ]
  },
  {
   "cell_type": "code",
   "execution_count": 78,
   "metadata": {},
   "outputs": [],
   "source": [
    "job_field=driver.find_element_by_id(\"qsb-keyword-sugg\")\n",
    "job_field.send_keys(\"Data Analyst\")"
   ]
  },
  {
   "cell_type": "code",
   "execution_count": 79,
   "metadata": {},
   "outputs": [],
   "source": [
    "loc_field=driver.find_element_by_id(\"qsb-location-sugg\")\n",
    "loc_field.send_keys(\"Bangalore\")"
   ]
  },
  {
   "cell_type": "code",
   "execution_count": 80,
   "metadata": {},
   "outputs": [],
   "source": [
    "search_button=driver.find_element_by_class_name(\"btn\")\n",
    "search_button.click()\n",
    "time.sleep(10)"
   ]
  },
  {
   "cell_type": "code",
   "execution_count": 81,
   "metadata": {},
   "outputs": [
    {
     "data": {
      "text/plain": [
       "[<selenium.webdriver.remote.webelement.WebElement (session=\"48cd60498d07e292dd8bc5fdfc533809\", element=\"cd57212f-64b0-45d0-a532-7a353615ad26\")>,\n",
       " <selenium.webdriver.remote.webelement.WebElement (session=\"48cd60498d07e292dd8bc5fdfc533809\", element=\"4268d52a-717f-4420-8b81-4d94196616b7\")>,\n",
       " <selenium.webdriver.remote.webelement.WebElement (session=\"48cd60498d07e292dd8bc5fdfc533809\", element=\"e4cba3fc-f4e9-41c7-971a-26cffc405fdc\")>,\n",
       " <selenium.webdriver.remote.webelement.WebElement (session=\"48cd60498d07e292dd8bc5fdfc533809\", element=\"fa2136e9-6730-40a6-a204-e0c2186855d0\")>,\n",
       " <selenium.webdriver.remote.webelement.WebElement (session=\"48cd60498d07e292dd8bc5fdfc533809\", element=\"355079c5-ac08-44f8-ae84-f0599dcc7d27\")>,\n",
       " <selenium.webdriver.remote.webelement.WebElement (session=\"48cd60498d07e292dd8bc5fdfc533809\", element=\"e127fe7e-ecb5-4d98-b936-ebdd7525c31d\")>,\n",
       " <selenium.webdriver.remote.webelement.WebElement (session=\"48cd60498d07e292dd8bc5fdfc533809\", element=\"153c6edd-cc59-4b7a-949a-5bc699c1fdc8\")>,\n",
       " <selenium.webdriver.remote.webelement.WebElement (session=\"48cd60498d07e292dd8bc5fdfc533809\", element=\"5e9259de-0feb-4c68-b9db-15b96c7339da\")>,\n",
       " <selenium.webdriver.remote.webelement.WebElement (session=\"48cd60498d07e292dd8bc5fdfc533809\", element=\"81376bd2-897b-422f-ab35-806219775ebb\")>,\n",
       " <selenium.webdriver.remote.webelement.WebElement (session=\"48cd60498d07e292dd8bc5fdfc533809\", element=\"e85c90c1-6d77-47bb-b9ab-14b9b123a615\")>,\n",
       " <selenium.webdriver.remote.webelement.WebElement (session=\"48cd60498d07e292dd8bc5fdfc533809\", element=\"1914e65a-b0fc-4d83-899c-f8bfab38bf96\")>,\n",
       " <selenium.webdriver.remote.webelement.WebElement (session=\"48cd60498d07e292dd8bc5fdfc533809\", element=\"c7c14dc9-1d9a-4904-91cb-38e1244c3a31\")>,\n",
       " <selenium.webdriver.remote.webelement.WebElement (session=\"48cd60498d07e292dd8bc5fdfc533809\", element=\"b6ed7149-8cf0-4293-93e0-e02cf5533a8f\")>,\n",
       " <selenium.webdriver.remote.webelement.WebElement (session=\"48cd60498d07e292dd8bc5fdfc533809\", element=\"f01173d3-c9c0-4dd7-a768-8bbb7beff7df\")>,\n",
       " <selenium.webdriver.remote.webelement.WebElement (session=\"48cd60498d07e292dd8bc5fdfc533809\", element=\"655ce70e-1dfe-47e0-a9e6-4ab3fca8162a\")>,\n",
       " <selenium.webdriver.remote.webelement.WebElement (session=\"48cd60498d07e292dd8bc5fdfc533809\", element=\"33abf5aa-f2b8-46f6-972f-4cd5b31c5b0b\")>,\n",
       " <selenium.webdriver.remote.webelement.WebElement (session=\"48cd60498d07e292dd8bc5fdfc533809\", element=\"10e793eb-9f75-414a-b8a7-9b848965b525\")>,\n",
       " <selenium.webdriver.remote.webelement.WebElement (session=\"48cd60498d07e292dd8bc5fdfc533809\", element=\"53146870-c515-466e-a911-7fdc8215ea51\")>,\n",
       " <selenium.webdriver.remote.webelement.WebElement (session=\"48cd60498d07e292dd8bc5fdfc533809\", element=\"e2582705-e4a4-49d0-bd43-175114d1283b\")>,\n",
       " <selenium.webdriver.remote.webelement.WebElement (session=\"48cd60498d07e292dd8bc5fdfc533809\", element=\"b7c348fa-47c3-489a-9919-4eee9a9f2ede\")>]"
      ]
     },
     "execution_count": 81,
     "metadata": {},
     "output_type": "execute_result"
    }
   ],
   "source": [
    "job_div=driver.find_elements_by_xpath(\"//article[@class='jobTuple bgWhite br4 mb-8']/div/div/a\")\n",
    "job_div\n"
   ]
  },
  {
   "cell_type": "code",
   "execution_count": 82,
   "metadata": {},
   "outputs": [],
   "source": [
    "job_title_list=[]\n",
    "job_desc_list=[]\n",
    "job_loc_list=[]\n",
    "comp_list=[]"
   ]
  },
  {
   "cell_type": "code",
   "execution_count": 83,
   "metadata": {},
   "outputs": [
    {
     "data": {
      "text/plain": [
       "[<selenium.webdriver.remote.webelement.WebElement (session=\"48cd60498d07e292dd8bc5fdfc533809\", element=\"934a6727-fcde-4fc0-9be1-151748e80487\")>,\n",
       " <selenium.webdriver.remote.webelement.WebElement (session=\"48cd60498d07e292dd8bc5fdfc533809\", element=\"793bc46d-1bcc-43cf-9dfc-92e19d915ae3\")>,\n",
       " <selenium.webdriver.remote.webelement.WebElement (session=\"48cd60498d07e292dd8bc5fdfc533809\", element=\"84a69fe5-7867-4da1-89e4-1605f1fd73fd\")>,\n",
       " <selenium.webdriver.remote.webelement.WebElement (session=\"48cd60498d07e292dd8bc5fdfc533809\", element=\"7a58da40-6ade-472a-b49b-eb09338ccb0a\")>,\n",
       " <selenium.webdriver.remote.webelement.WebElement (session=\"48cd60498d07e292dd8bc5fdfc533809\", element=\"bcaf6f1b-082d-4fee-bea7-4f27184e7f76\")>,\n",
       " <selenium.webdriver.remote.webelement.WebElement (session=\"48cd60498d07e292dd8bc5fdfc533809\", element=\"b9e5f593-dc6e-4f96-b17d-4bd33e8bd1d5\")>,\n",
       " <selenium.webdriver.remote.webelement.WebElement (session=\"48cd60498d07e292dd8bc5fdfc533809\", element=\"0c2108f7-34d2-4a93-83c3-bc01ed779f41\")>,\n",
       " <selenium.webdriver.remote.webelement.WebElement (session=\"48cd60498d07e292dd8bc5fdfc533809\", element=\"03e0d005-37f7-457e-9da3-53929f3ba0f7\")>,\n",
       " <selenium.webdriver.remote.webelement.WebElement (session=\"48cd60498d07e292dd8bc5fdfc533809\", element=\"c7fc9e54-be5e-4dfc-8c5d-456a67f40eda\")>,\n",
       " <selenium.webdriver.remote.webelement.WebElement (session=\"48cd60498d07e292dd8bc5fdfc533809\", element=\"5be66bfc-7dae-481b-a907-639eefe1b3f7\")>,\n",
       " <selenium.webdriver.remote.webelement.WebElement (session=\"48cd60498d07e292dd8bc5fdfc533809\", element=\"1b6568fa-0534-4a92-8a00-f5cf02145103\")>,\n",
       " <selenium.webdriver.remote.webelement.WebElement (session=\"48cd60498d07e292dd8bc5fdfc533809\", element=\"063fceab-60d5-467a-b17b-104f575fb645\")>,\n",
       " <selenium.webdriver.remote.webelement.WebElement (session=\"48cd60498d07e292dd8bc5fdfc533809\", element=\"39187be1-3fe7-4e5a-a533-8d4d3eeafbaa\")>,\n",
       " <selenium.webdriver.remote.webelement.WebElement (session=\"48cd60498d07e292dd8bc5fdfc533809\", element=\"29bf4ed5-8cdc-4a6f-88ec-1addc9a08c87\")>,\n",
       " <selenium.webdriver.remote.webelement.WebElement (session=\"48cd60498d07e292dd8bc5fdfc533809\", element=\"df9bc4c8-8d93-4e67-903d-a26ee99b5faa\")>,\n",
       " <selenium.webdriver.remote.webelement.WebElement (session=\"48cd60498d07e292dd8bc5fdfc533809\", element=\"0a1faebf-4bbc-4772-beb7-9b63ab3f054f\")>,\n",
       " <selenium.webdriver.remote.webelement.WebElement (session=\"48cd60498d07e292dd8bc5fdfc533809\", element=\"49a95cae-50c8-4c6f-8d87-0e228df735ee\")>,\n",
       " <selenium.webdriver.remote.webelement.WebElement (session=\"48cd60498d07e292dd8bc5fdfc533809\", element=\"a85d8c69-6310-45fa-8e33-fabf257fc1b8\")>,\n",
       " <selenium.webdriver.remote.webelement.WebElement (session=\"48cd60498d07e292dd8bc5fdfc533809\", element=\"ac1d3d37-6745-4151-981e-8f429c2cd213\")>,\n",
       " <selenium.webdriver.remote.webelement.WebElement (session=\"48cd60498d07e292dd8bc5fdfc533809\", element=\"f0eafba7-087d-48ea-8c5b-0484e6ef4d5d\")>]"
      ]
     },
     "execution_count": 83,
     "metadata": {},
     "output_type": "execute_result"
    }
   ],
   "source": [
    "comp_div=driver.find_elements_by_xpath(\"//article[@class='jobTuple bgWhite br4 mb-8']/div/div/div/a[1]\")\n",
    "comp_div"
   ]
  },
  {
   "cell_type": "code",
   "execution_count": 84,
   "metadata": {},
   "outputs": [],
   "source": [
    "count=1\n",
    "for d in comp_div:\n",
    "    if(count<11):\n",
    "        comp_list.append(d.text)\n",
    "        count=count+1"
   ]
  },
  {
   "cell_type": "code",
   "execution_count": 85,
   "metadata": {},
   "outputs": [],
   "source": [
    "job_loc_div=driver.find_elements_by_xpath(\"//article[@class='jobTuple bgWhite br4 mb-8']/div/div/ul/li[3]/span\")\n",
    "\n",
    "count=1\n",
    "for d in job_loc_div:\n",
    "    if(count<11):\n",
    "        job_loc_list.append(d.text)\n",
    "        count=count+1"
   ]
  },
  {
   "cell_type": "code",
   "execution_count": 86,
   "metadata": {},
   "outputs": [],
   "source": [
    "job_div=driver.find_elements_by_xpath(\"//article[@class='jobTuple bgWhite br4 mb-8']/div/div/a\")\n",
    "count=1\n",
    "for d in job_div:\n",
    "    if(count<11):\n",
    "        job_title_list.append(d.text)\n",
    "        count=count+1"
   ]
  },
  {
   "cell_type": "code",
   "execution_count": 87,
   "metadata": {},
   "outputs": [],
   "source": [
    "url_list=[]"
   ]
  },
  {
   "cell_type": "code",
   "execution_count": 88,
   "metadata": {},
   "outputs": [],
   "source": [
    "for i in range(0,len(job_div)):\n",
    "    if(i<10):\n",
    "        #driver_new=webdriver.Chrome(\"C:\\Program Files (x86)\\chromedriver_win32\\chromedriver.exe\")\n",
    "        url=job_div[i].get_attribute('href')\n",
    "        url_list.append(url)\n",
    "       "
   ]
  },
  {
   "cell_type": "code",
   "execution_count": 89,
   "metadata": {},
   "outputs": [
    {
     "data": {
      "text/plain": [
       "['https://www.naukri.com/job-listings-fresher-data-engineer-data-scientist-data-analyst-requirements-achyutas-soft-private-limited-delhi-ncr-bengaluru-bangalore-hyderabad-secunderabad-0-to-2-years-061220001192?src=jobsearchDesk&sid=16082126166439233&xp=1&px=1',\n",
       " 'https://www.naukri.com/job-listings-data-scientist-data-analyst-caia-center-for-artificial-intelligence-advanced-analytics-chennai-pune-bengaluru-bangalore-hyderabad-secunderabad-0-to-3-years-210920000599?src=jobsearchDesk&sid=16082126166439233&xp=2&px=1',\n",
       " 'https://www.naukri.com/job-listings-business-data-analyst-netapp-india-private-limited-bengaluru-bangalore-2-to-3-years-141220902552?src=jobsearchDesk&sid=16082126166439233&xp=3&px=1',\n",
       " 'https://www.naukri.com/job-listings-sas-aml-data-analyst-trainee-data-science-python-trainee-magicbase-royal-bd-pvt-ltd-bengaluru-bangalore-0-to-5-years-061220000567?src=jobsearchDesk&sid=16082126166439233&xp=4&px=1',\n",
       " 'https://www.naukri.com/job-listings-hiring-data-analysts-flipkart-internet-private-limited-bengaluru-bangalore-2-to-5-years-131220000867?src=jobsearchDesk&sid=16082126166439233&xp=5&px=1',\n",
       " 'https://www.naukri.com/job-listings-hiring-data-analysts-flipkart-internet-private-limited-bengaluru-bangalore-2-to-5-years-041220003590?src=jobsearchDesk&sid=16082126166439233&xp=6&px=1',\n",
       " 'https://www.naukri.com/job-listings-data-analyst-glaxosmithkline-pharmaceuticals-limited-bengaluru-bangalore-india-3-to-5-years-101220905821?src=jobsearchDesk&sid=16082126166439233&xp=7&px=1',\n",
       " 'https://www.naukri.com/job-listings-study-data-analyst-glaxosmithkline-pharmaceuticals-limited-bengaluru-bangalore-4-to-8-years-101220905167?src=jobsearchDesk&sid=16082126166439233&xp=8&px=1',\n",
       " 'https://www.naukri.com/job-listings-data-analyst-cognizant-technology-solutions-india-ltd-bengaluru-bangalore-3-to-4-years-071220902309?src=jobsearchDesk&sid=16082126166439233&xp=9&px=1',\n",
       " 'https://www.naukri.com/job-listings-business-data-analyst-reinsurance-domain-mphasis-limited-bengaluru-bangalore-10-to-15-years-151220903666?src=jobsearchDesk&sid=16082126166439233&xp=10&px=1']"
      ]
     },
     "execution_count": 89,
     "metadata": {},
     "output_type": "execute_result"
    }
   ],
   "source": [
    "url_list"
   ]
  },
  {
   "cell_type": "code",
   "execution_count": null,
   "metadata": {},
   "outputs": [],
   "source": []
  },
  {
   "cell_type": "code",
   "execution_count": 90,
   "metadata": {
    "scrolled": false
   },
   "outputs": [
    {
     "name": "stdout",
     "output_type": "stream",
     "text": [
      "urlllllllllllllll https://www.naukri.com/job-listings-fresher-data-engineer-data-scientist-data-analyst-requirements-achyutas-soft-private-limited-delhi-ncr-bengaluru-bangalore-hyderabad-secunderabad-0-to-2-years-061220001192?src=jobsearchDesk&sid=16082126166439233&xp=1&px=1\n",
      "urlllllllllllllll https://www.naukri.com/job-listings-data-scientist-data-analyst-caia-center-for-artificial-intelligence-advanced-analytics-chennai-pune-bengaluru-bangalore-hyderabad-secunderabad-0-to-3-years-210920000599?src=jobsearchDesk&sid=16082126166439233&xp=2&px=1\n",
      "urlllllllllllllll https://www.naukri.com/job-listings-business-data-analyst-netapp-india-private-limited-bengaluru-bangalore-2-to-3-years-141220902552?src=jobsearchDesk&sid=16082126166439233&xp=3&px=1\n",
      "urlllllllllllllll https://www.naukri.com/job-listings-sas-aml-data-analyst-trainee-data-science-python-trainee-magicbase-royal-bd-pvt-ltd-bengaluru-bangalore-0-to-5-years-061220000567?src=jobsearchDesk&sid=16082126166439233&xp=4&px=1\n",
      "urlllllllllllllll https://www.naukri.com/job-listings-hiring-data-analysts-flipkart-internet-private-limited-bengaluru-bangalore-2-to-5-years-131220000867?src=jobsearchDesk&sid=16082126166439233&xp=5&px=1\n",
      "urlllllllllllllll https://www.naukri.com/job-listings-hiring-data-analysts-flipkart-internet-private-limited-bengaluru-bangalore-2-to-5-years-041220003590?src=jobsearchDesk&sid=16082126166439233&xp=6&px=1\n",
      "urlllllllllllllll https://www.naukri.com/job-listings-data-analyst-glaxosmithkline-pharmaceuticals-limited-bengaluru-bangalore-india-3-to-5-years-101220905821?src=jobsearchDesk&sid=16082126166439233&xp=7&px=1\n",
      "urlllllllllllllll https://www.naukri.com/job-listings-study-data-analyst-glaxosmithkline-pharmaceuticals-limited-bengaluru-bangalore-4-to-8-years-101220905167?src=jobsearchDesk&sid=16082126166439233&xp=8&px=1\n",
      "urlllllllllllllll https://www.naukri.com/job-listings-data-analyst-cognizant-technology-solutions-india-ltd-bengaluru-bangalore-3-to-4-years-071220902309?src=jobsearchDesk&sid=16082126166439233&xp=9&px=1\n",
      "urlllllllllllllll https://www.naukri.com/job-listings-business-data-analyst-reinsurance-domain-mphasis-limited-bengaluru-bangalore-10-to-15-years-151220903666?src=jobsearchDesk&sid=16082126166439233&xp=10&px=1\n"
     ]
    }
   ],
   "source": [
    "for url in url_list:\n",
    "    print('urlllllllllllllll',url)\n",
    "    driver.get(url)\n",
    "    time.sleep(5)\n",
    "    try:\n",
    "        job_desc_div=driver.find_element_by_xpath(\"//section[@class='job-desc']\")\n",
    "    except NoSuchElementException:\n",
    "        try:\n",
    "            job_desc_div=driver.find_element_by_xpath(\"//*[@id='apply_career']/div[1]/div[2]\")\n",
    "        except NoSuchElementException:\n",
    "            try:\n",
    "                job_desc_div=driver.find_element_by_xpath(\"//*[@id='after_full_slider_1']/div/div/div/div/div/section[1]/div\")\n",
    "            except NoSuchElementException:\n",
    "                job_desc_div=driver.find_element_by_xpath(\"//*[@id='after_full_slider_1']/div/div/div/div/section[1]/div/div[2]\")\n",
    "    \n",
    "    \n",
    "    job_desc_list.append(job_desc_div.text)\n",
    "    \n",
    "    \n",
    "    \n",
    "        \n",
    "        \n",
    "#     comp_div=driver.find_elements_by_xpath(\"//section[@class='jd-header']/div/div/div/a\")\n",
    "#     for div in comp_div:\n",
    "#         print('company**************',div.text)\n",
    "#         comp_list.append(div.text)\n",
    "        \n",
    " \n",
    "#     job_title_div=driver.find_elements_by_xpath(\"//section[@class='jd-header']/div/div/header/h1\")\n",
    "#     for div in job_title_div:\n",
    "#         print('job title**************',div.text)\n",
    "#         job_title_list.append(div.text)    \n",
    "        \n",
    "        \n",
    "#     job_loc_div=driver.find_elements_by_xpath(\"//section[@class='jd-header']/div/div/div/span\")\n",
    "#     for div in job_loc_div:\n",
    "#         print('job loc**************',div.text)\n",
    "#         job_loc_list.append(div.text)  \n",
    "   "
   ]
  },
  {
   "cell_type": "code",
   "execution_count": 91,
   "metadata": {},
   "outputs": [
    {
     "data": {
      "text/plain": [
       "10"
      ]
     },
     "execution_count": 91,
     "metadata": {},
     "output_type": "execute_result"
    }
   ],
   "source": [
    "len(job_desc_list)"
   ]
  },
  {
   "cell_type": "code",
   "execution_count": 92,
   "metadata": {},
   "outputs": [
    {
     "data": {
      "text/plain": [
       "10"
      ]
     },
     "execution_count": 92,
     "metadata": {},
     "output_type": "execute_result"
    }
   ],
   "source": [
    "len(job_title_list)\n"
   ]
  },
  {
   "cell_type": "code",
   "execution_count": 93,
   "metadata": {},
   "outputs": [
    {
     "data": {
      "text/plain": [
       "10"
      ]
     },
     "execution_count": 93,
     "metadata": {},
     "output_type": "execute_result"
    }
   ],
   "source": [
    "len(job_loc_list)"
   ]
  },
  {
   "cell_type": "code",
   "execution_count": 94,
   "metadata": {},
   "outputs": [
    {
     "data": {
      "text/plain": [
       "10"
      ]
     },
     "execution_count": 94,
     "metadata": {},
     "output_type": "execute_result"
    }
   ],
   "source": [
    "len(comp_list)"
   ]
  },
  {
   "cell_type": "code",
   "execution_count": 95,
   "metadata": {},
   "outputs": [],
   "source": [
    "naukri_desc_df=pd.DataFrame({})\n",
    "naukri_desc_df['job-title']=job_title_list\n",
    "naukri_desc_df['job-location']=job_loc_list\n",
    "naukri_desc_df['company_name']=comp_list\n",
    "naukri_desc_df['full job-description']=job_desc_list"
   ]
  },
  {
   "cell_type": "code",
   "execution_count": 96,
   "metadata": {},
   "outputs": [
    {
     "data": {
      "text/html": [
       "<div>\n",
       "<style scoped>\n",
       "    .dataframe tbody tr th:only-of-type {\n",
       "        vertical-align: middle;\n",
       "    }\n",
       "\n",
       "    .dataframe tbody tr th {\n",
       "        vertical-align: top;\n",
       "    }\n",
       "\n",
       "    .dataframe thead th {\n",
       "        text-align: right;\n",
       "    }\n",
       "</style>\n",
       "<table border=\"1\" class=\"dataframe\">\n",
       "  <thead>\n",
       "    <tr style=\"text-align: right;\">\n",
       "      <th></th>\n",
       "      <th>job-title</th>\n",
       "      <th>job-location</th>\n",
       "      <th>company_name</th>\n",
       "      <th>full job-description</th>\n",
       "    </tr>\n",
       "  </thead>\n",
       "  <tbody>\n",
       "    <tr>\n",
       "      <th>0</th>\n",
       "      <td>Fresher Data Engineer / Data Scientist / Data ...</td>\n",
       "      <td>Delhi NCR, Bengaluru, Hyderabad</td>\n",
       "      <td>ACHYUTAS SOFT PRIVATE LIMITED</td>\n",
       "      <td>Job description\\nRoles and Responsibilities\\nA...</td>\n",
       "    </tr>\n",
       "    <tr>\n",
       "      <th>1</th>\n",
       "      <td>Data Scientist/Data Analyst</td>\n",
       "      <td>Chennai, Pune, Bengaluru, Hyderabad</td>\n",
       "      <td>CAIA-Center For Artificial Intelligence &amp; Adva...</td>\n",
       "      <td>Job description\\nDear Candidate\\n\\nSchedule a ...</td>\n",
       "    </tr>\n",
       "    <tr>\n",
       "      <th>2</th>\n",
       "      <td>Business Data Analyst</td>\n",
       "      <td>Bengaluru</td>\n",
       "      <td>NetApp</td>\n",
       "      <td>Job Summary:\\nData Analysts work as part of a ...</td>\n",
       "    </tr>\n",
       "    <tr>\n",
       "      <th>3</th>\n",
       "      <td>SAS AML Data Analyst / Trainee &amp; Data Science,...</td>\n",
       "      <td>Bengaluru(Whitefield)</td>\n",
       "      <td>MagicBase Royal BD Pvt Ltd</td>\n",
       "      <td>Job description\\n\\nWe are looking to hire SAS ...</td>\n",
       "    </tr>\n",
       "    <tr>\n",
       "      <th>4</th>\n",
       "      <td>Hiring Data Analysts</td>\n",
       "      <td>Bengaluru</td>\n",
       "      <td>Flipkart Internet Private Limited</td>\n",
       "      <td>Job description\\nHiring Data Analyst profile o...</td>\n",
       "    </tr>\n",
       "    <tr>\n",
       "      <th>5</th>\n",
       "      <td>Hiring Data Analysts</td>\n",
       "      <td>Bengaluru</td>\n",
       "      <td>Flipkart Internet Private Limited</td>\n",
       "      <td>Job description\\nFlipkart is looking for Data ...</td>\n",
       "    </tr>\n",
       "    <tr>\n",
       "      <th>6</th>\n",
       "      <td>Data Analyst</td>\n",
       "      <td>Bengaluru, India</td>\n",
       "      <td>GlaxoSmithKline Pharmaceuticals Limited</td>\n",
       "      <td>Job Description\\nRoles and Responsibilities\\nS...</td>\n",
       "    </tr>\n",
       "    <tr>\n",
       "      <th>7</th>\n",
       "      <td>Study Data Analyst</td>\n",
       "      <td>Bengaluru</td>\n",
       "      <td>GlaxoSmithKline Pharmaceuticals Limited</td>\n",
       "      <td>Job Description\\nRoles and Responsibilities\\nA...</td>\n",
       "    </tr>\n",
       "    <tr>\n",
       "      <th>8</th>\n",
       "      <td>Data Analyst</td>\n",
       "      <td>Bengaluru</td>\n",
       "      <td>Cognizant Technology Solutions India Ltd</td>\n",
       "      <td>Job Description\\nRoles and Responsibilities\\nT...</td>\n",
       "    </tr>\n",
       "    <tr>\n",
       "      <th>9</th>\n",
       "      <td>Business Data Analyst | Reinsurance Domain</td>\n",
       "      <td>Bengaluru</td>\n",
       "      <td>Mphasis Limited</td>\n",
       "      <td>Roles and Responsibilities\\nRole: Data Analyst...</td>\n",
       "    </tr>\n",
       "  </tbody>\n",
       "</table>\n",
       "</div>"
      ],
      "text/plain": [
       "                                           job-title  \\\n",
       "0  Fresher Data Engineer / Data Scientist / Data ...   \n",
       "1                        Data Scientist/Data Analyst   \n",
       "2                              Business Data Analyst   \n",
       "3  SAS AML Data Analyst / Trainee & Data Science,...   \n",
       "4                               Hiring Data Analysts   \n",
       "5                               Hiring Data Analysts   \n",
       "6                                       Data Analyst   \n",
       "7                                 Study Data Analyst   \n",
       "8                                       Data Analyst   \n",
       "9         Business Data Analyst | Reinsurance Domain   \n",
       "\n",
       "                          job-location  \\\n",
       "0      Delhi NCR, Bengaluru, Hyderabad   \n",
       "1  Chennai, Pune, Bengaluru, Hyderabad   \n",
       "2                            Bengaluru   \n",
       "3                Bengaluru(Whitefield)   \n",
       "4                            Bengaluru   \n",
       "5                            Bengaluru   \n",
       "6                     Bengaluru, India   \n",
       "7                            Bengaluru   \n",
       "8                            Bengaluru   \n",
       "9                            Bengaluru   \n",
       "\n",
       "                                        company_name  \\\n",
       "0                      ACHYUTAS SOFT PRIVATE LIMITED   \n",
       "1  CAIA-Center For Artificial Intelligence & Adva...   \n",
       "2                                             NetApp   \n",
       "3                         MagicBase Royal BD Pvt Ltd   \n",
       "4                  Flipkart Internet Private Limited   \n",
       "5                  Flipkart Internet Private Limited   \n",
       "6            GlaxoSmithKline Pharmaceuticals Limited   \n",
       "7            GlaxoSmithKline Pharmaceuticals Limited   \n",
       "8           Cognizant Technology Solutions India Ltd   \n",
       "9                                    Mphasis Limited   \n",
       "\n",
       "                                full job-description  \n",
       "0  Job description\\nRoles and Responsibilities\\nA...  \n",
       "1  Job description\\nDear Candidate\\n\\nSchedule a ...  \n",
       "2  Job Summary:\\nData Analysts work as part of a ...  \n",
       "3  Job description\\n\\nWe are looking to hire SAS ...  \n",
       "4  Job description\\nHiring Data Analyst profile o...  \n",
       "5  Job description\\nFlipkart is looking for Data ...  \n",
       "6  Job Description\\nRoles and Responsibilities\\nS...  \n",
       "7  Job Description\\nRoles and Responsibilities\\nA...  \n",
       "8  Job Description\\nRoles and Responsibilities\\nT...  \n",
       "9  Roles and Responsibilities\\nRole: Data Analyst...  "
      ]
     },
     "execution_count": 96,
     "metadata": {},
     "output_type": "execute_result"
    }
   ],
   "source": [
    "naukri_desc_df"
   ]
  },
  {
   "cell_type": "code",
   "execution_count": 97,
   "metadata": {},
   "outputs": [
    {
     "data": {
      "text/plain": [
       "0    Job description\\nRoles and Responsibilities\\nA...\n",
       "1    Job description\\nDear Candidate\\n\\nSchedule a ...\n",
       "2    Job Summary:\\nData Analysts work as part of a ...\n",
       "3    Job description\\n\\nWe are looking to hire SAS ...\n",
       "4    Job description\\nHiring Data Analyst profile o...\n",
       "5    Job description\\nFlipkart is looking for Data ...\n",
       "6    Job Description\\nRoles and Responsibilities\\nS...\n",
       "7    Job Description\\nRoles and Responsibilities\\nA...\n",
       "8    Job Description\\nRoles and Responsibilities\\nT...\n",
       "9    Roles and Responsibilities\\nRole: Data Analyst...\n",
       "Name: full job-description, dtype: object"
      ]
     },
     "execution_count": 97,
     "metadata": {},
     "output_type": "execute_result"
    }
   ],
   "source": [
    "naukri_desc_df['full job-description']"
   ]
  },
  {
   "cell_type": "code",
   "execution_count": null,
   "metadata": {},
   "outputs": [],
   "source": [
    "driver.close()"
   ]
  },
  {
   "cell_type": "code",
   "execution_count": 335,
   "metadata": {},
   "outputs": [],
   "source": [
    "################################################################"
   ]
  },
  {
   "cell_type": "code",
   "execution_count": 336,
   "metadata": {},
   "outputs": [],
   "source": [
    "driver=webdriver.Chrome(\"C:\\Program Files (x86)\\chromedriver_win32\\chromedriver.exe\")"
   ]
  },
  {
   "cell_type": "code",
   "execution_count": 337,
   "metadata": {},
   "outputs": [],
   "source": [
    "driver.get(\"https://www.naukri.com/\")"
   ]
  },
  {
   "cell_type": "code",
   "execution_count": 338,
   "metadata": {},
   "outputs": [],
   "source": [
    "job_field=driver.find_element_by_id(\"qsb-keyword-sugg\")\n",
    "job_field.send_keys(\"data scientist\")\n",
    "search_button=driver.find_element_by_class_name(\"btn\")\n",
    "#search_button=driver.find_element_by_xpath(\"//div[@class='col-xl-2 col-lg-3 col-sm-2 col-xxs-12 fl no-padding']/input\")\n",
    "search_button.click()\n",
    "time.sleep(5)"
   ]
  },
  {
   "cell_type": "code",
   "execution_count": 339,
   "metadata": {},
   "outputs": [],
   "source": [
    "# loc_div_list=driver.find_elements_by_xpath(\"//div[@class='mt-8 chckBoxCont']/input[@type='checkbox']\")\n",
    "# driver.find_element_by_xpath(\"//span[contains(text(),'Industry')]\").click()\n",
    "# s=driver.find_element_by_id(\"chk-Pune-cityType-expanded\")\n",
    "\n",
    "more_btn=driver.find_element_by_xpath(\"//a[@class='blue-text filter-more-link']\")\n"
   ]
  },
  {
   "cell_type": "code",
   "execution_count": 340,
   "metadata": {},
   "outputs": [],
   "source": [
    "more_btn.click()"
   ]
  },
  {
   "cell_type": "code",
   "execution_count": 341,
   "metadata": {},
   "outputs": [],
   "source": [
    "blr_loc=driver.find_element_by_xpath(\"//div[@id='tooltip']/div[2]/div/input[@id='chk-Delhi/NCR-cityType-expanded']\")\n",
    "driver.execute_script(\"arguments[0].click();\", blr_loc)\n",
    "time.sleep(5)"
   ]
  },
  {
   "cell_type": "code",
   "execution_count": 342,
   "metadata": {},
   "outputs": [],
   "source": [
    "salary_btn=driver.find_element_by_xpath(\"//div[@class='filters']/div[3]/div[2]/div[5]/a\")\n"
   ]
  },
  {
   "cell_type": "code",
   "execution_count": 343,
   "metadata": {},
   "outputs": [],
   "source": [
    "salary_btn.click()"
   ]
  },
  {
   "cell_type": "code",
   "execution_count": 344,
   "metadata": {},
   "outputs": [],
   "source": [
    "salary=driver.find_element_by_xpath(\"//div[@class='filters']/div[3]/div[3]/div[2]/div[2]/input[@id='chk-3-6 Lakhs-ctcFilter-expanded']\")\n"
   ]
  },
  {
   "cell_type": "code",
   "execution_count": 345,
   "metadata": {},
   "outputs": [],
   "source": [
    "driver.execute_script(\"arguments[0].click();\", salary)"
   ]
  },
  {
   "cell_type": "code",
   "execution_count": 346,
   "metadata": {},
   "outputs": [],
   "source": [
    "job_loc_list=[]\n",
    "job_loc_div=driver.find_elements_by_xpath(\"//section[@class='listContainer fleft']/div[2]/article/div/div/ul/li[3]/span\")\n",
    "\n",
    "\n",
    "count=1\n",
    "for d in job_loc_div:\n",
    "    if(count<11):\n",
    "        #print(d.text)\n",
    "        job_loc_list.append(d.text)\n",
    "        count=count+1"
   ]
  },
  {
   "cell_type": "code",
   "execution_count": 347,
   "metadata": {},
   "outputs": [
    {
     "data": {
      "text/plain": [
       "10"
      ]
     },
     "execution_count": 347,
     "metadata": {},
     "output_type": "execute_result"
    }
   ],
   "source": [
    "len(job_loc_list)"
   ]
  },
  {
   "cell_type": "code",
   "execution_count": 348,
   "metadata": {},
   "outputs": [],
   "source": [
    "job_title_list=[]\n",
    "# job_title_div=driver.find_elements_by_xpath(\"//section[@class='listContainer fleft']/div[2]/article/div/div/a\")\n",
    "job_title_div=driver.find_elements_by_xpath(\"//section[@class='listContainer fleft']/div[2]/article/div/div/a\")\n",
    "\n",
    "\n",
    "count=1\n",
    "for d in job_title_div:\n",
    "    if(count<11):\n",
    "        #print(d.text)\n",
    "        job_title_list.append(d.text)\n",
    "        count=count+1"
   ]
  },
  {
   "cell_type": "code",
   "execution_count": 349,
   "metadata": {},
   "outputs": [
    {
     "data": {
      "text/plain": [
       "['Fresher Data Engineer / Data Scientist / Data Analyst Requirements',\n",
       " 'GCP Skilled Analytics Resources (Data engineer / Data scientists)',\n",
       " 'GCP Skilled Analytics Resources (Data engineer / Data scientists)',\n",
       " 'Data Scientist',\n",
       " 'Data Scientist',\n",
       " 'Job | Opportunity For Senior Role(Data Scientist)-Bank of America',\n",
       " 'Data Scientist For A Leading Movers & Packers Organisation',\n",
       " 'Data Scientist(Hadoop/ Redshift /BigQuery)',\n",
       " 'Data Scientist',\n",
       " 'Data Scientist']"
      ]
     },
     "execution_count": 349,
     "metadata": {},
     "output_type": "execute_result"
    }
   ],
   "source": [
    "job_title_list"
   ]
  },
  {
   "cell_type": "code",
   "execution_count": 350,
   "metadata": {
    "scrolled": true
   },
   "outputs": [
    {
     "name": "stdout",
     "output_type": "stream",
     "text": [
      "ACHYUTAS SOFT PRIVATE LIMITED\n",
      "Aerial Telecom Solutions Pvt. Ltd.\n",
      "Aerial Telecom Solutions Pvt. Ltd.\n",
      "PureSoftware Pvt Ltd.\n",
      "World Wide Technology\n",
      "BA Continuum India Pvt. Ltd\n",
      "Myfuture Placement Consultancy\n",
      "Jubna\n",
      "KNOWLEDGE EXCEL PRIVATE LIMITED\n",
      "Imbibe Consultancy Services Pvt Ltd\n"
     ]
    }
   ],
   "source": [
    "comp_list=[]\n",
    "comp_div=driver.find_elements_by_xpath(\"//*[@id='root']/div[3]/div[2]/section[2]/div[2]/article/div/div/div/a[1]\")\n",
    "count=1\n",
    "for d in comp_div:\n",
    "    if(count<11):\n",
    "        print(d.text)\n",
    "        comp_list.append(d.text)\n",
    "        count=count+1"
   ]
  },
  {
   "cell_type": "code",
   "execution_count": 351,
   "metadata": {},
   "outputs": [
    {
     "name": "stdout",
     "output_type": "stream",
     "text": [
      "3,50,000 - 8,50,000 PA.\n",
      "5,00,000 - 15,00,000 PA.\n",
      "5,00,000 - 15,00,000 PA.\n",
      "Not disclosed\n",
      "Not disclosed\n",
      "Not disclosed\n",
      "2,00,000 - 3,00,000 PA.\n",
      "Not disclosed\n",
      "Not disclosed\n",
      "5,00,000 - 15,00,000 PA.\n"
     ]
    }
   ],
   "source": [
    "\n",
    "sal_list=[]\n",
    "sal_div=driver.find_elements_by_xpath(\"//*[@id='root']/div[3]/div[2]/section[2]/div[2]/article/div[1]/div/ul/li[2]/span\")\n",
    "count=1\n",
    "for d in sal_div:\n",
    "    if(count<11):\n",
    "        print(d.text)\n",
    "        sal_list.append(d.text)\n",
    "        count=count+1"
   ]
  },
  {
   "cell_type": "code",
   "execution_count": 352,
   "metadata": {},
   "outputs": [],
   "source": [
    "naukri_filter_df=pd.DataFrame({})\n",
    "naukri_filter_df['job-title']=job_title_list\n",
    "naukri_filter_df['job-location']=job_loc_list\n",
    "naukri_filter_df['company_name']=comp_list\n",
    "naukri_filter_df['salary']=sal_list"
   ]
  },
  {
   "cell_type": "code",
   "execution_count": 353,
   "metadata": {},
   "outputs": [
    {
     "data": {
      "text/html": [
       "<div>\n",
       "<style scoped>\n",
       "    .dataframe tbody tr th:only-of-type {\n",
       "        vertical-align: middle;\n",
       "    }\n",
       "\n",
       "    .dataframe tbody tr th {\n",
       "        vertical-align: top;\n",
       "    }\n",
       "\n",
       "    .dataframe thead th {\n",
       "        text-align: right;\n",
       "    }\n",
       "</style>\n",
       "<table border=\"1\" class=\"dataframe\">\n",
       "  <thead>\n",
       "    <tr style=\"text-align: right;\">\n",
       "      <th></th>\n",
       "      <th>job-title</th>\n",
       "      <th>job-location</th>\n",
       "      <th>company_name</th>\n",
       "      <th>salary</th>\n",
       "    </tr>\n",
       "  </thead>\n",
       "  <tbody>\n",
       "    <tr>\n",
       "      <th>0</th>\n",
       "      <td>Fresher Data Engineer / Data Scientist / Data ...</td>\n",
       "      <td>Delhi NCR, Bengaluru, Hyderabad</td>\n",
       "      <td>ACHYUTAS SOFT PRIVATE LIMITED</td>\n",
       "      <td>3,50,000 - 8,50,000 PA.</td>\n",
       "    </tr>\n",
       "    <tr>\n",
       "      <th>1</th>\n",
       "      <td>GCP Skilled Analytics Resources (Data engineer...</td>\n",
       "      <td>Pune, Bengaluru, Gurgaon</td>\n",
       "      <td>Aerial Telecom Solutions Pvt. Ltd.</td>\n",
       "      <td>5,00,000 - 15,00,000 PA.</td>\n",
       "    </tr>\n",
       "    <tr>\n",
       "      <th>2</th>\n",
       "      <td>GCP Skilled Analytics Resources (Data engineer...</td>\n",
       "      <td>Pune, Bengaluru, Gurgaon</td>\n",
       "      <td>Aerial Telecom Solutions Pvt. Ltd.</td>\n",
       "      <td>5,00,000 - 15,00,000 PA.</td>\n",
       "    </tr>\n",
       "    <tr>\n",
       "      <th>3</th>\n",
       "      <td>Data Scientist</td>\n",
       "      <td>Gurgaon</td>\n",
       "      <td>PureSoftware Pvt Ltd.</td>\n",
       "      <td>Not disclosed</td>\n",
       "    </tr>\n",
       "    <tr>\n",
       "      <th>4</th>\n",
       "      <td>Data Scientist</td>\n",
       "      <td>Gurgaon</td>\n",
       "      <td>World Wide Technology</td>\n",
       "      <td>Not disclosed</td>\n",
       "    </tr>\n",
       "    <tr>\n",
       "      <th>5</th>\n",
       "      <td>Job | Opportunity For Senior Role(Data Scienti...</td>\n",
       "      <td>Gandhinagar, Delhi NCR, Mumbai, Gurgaon</td>\n",
       "      <td>BA Continuum India Pvt. Ltd</td>\n",
       "      <td>Not disclosed</td>\n",
       "    </tr>\n",
       "    <tr>\n",
       "      <th>6</th>\n",
       "      <td>Data Scientist For A Leading Movers &amp; Packers ...</td>\n",
       "      <td>Delhi NCR</td>\n",
       "      <td>Myfuture Placement Consultancy</td>\n",
       "      <td>2,00,000 - 3,00,000 PA.</td>\n",
       "    </tr>\n",
       "    <tr>\n",
       "      <th>7</th>\n",
       "      <td>Data Scientist(Hadoop/ Redshift /BigQuery)</td>\n",
       "      <td>Noida</td>\n",
       "      <td>Jubna</td>\n",
       "      <td>Not disclosed</td>\n",
       "    </tr>\n",
       "    <tr>\n",
       "      <th>8</th>\n",
       "      <td>Data Scientist</td>\n",
       "      <td>Delhi NCR(Patparganj Industrial Area)</td>\n",
       "      <td>KNOWLEDGE EXCEL PRIVATE LIMITED</td>\n",
       "      <td>Not disclosed</td>\n",
       "    </tr>\n",
       "    <tr>\n",
       "      <th>9</th>\n",
       "      <td>Data Scientist</td>\n",
       "      <td>Delhi NCR, Bengaluru, Hyderabad</td>\n",
       "      <td>Imbibe Consultancy Services Pvt Ltd</td>\n",
       "      <td>5,00,000 - 15,00,000 PA.</td>\n",
       "    </tr>\n",
       "  </tbody>\n",
       "</table>\n",
       "</div>"
      ],
      "text/plain": [
       "                                           job-title  \\\n",
       "0  Fresher Data Engineer / Data Scientist / Data ...   \n",
       "1  GCP Skilled Analytics Resources (Data engineer...   \n",
       "2  GCP Skilled Analytics Resources (Data engineer...   \n",
       "3                                     Data Scientist   \n",
       "4                                     Data Scientist   \n",
       "5  Job | Opportunity For Senior Role(Data Scienti...   \n",
       "6  Data Scientist For A Leading Movers & Packers ...   \n",
       "7         Data Scientist(Hadoop/ Redshift /BigQuery)   \n",
       "8                                     Data Scientist   \n",
       "9                                     Data Scientist   \n",
       "\n",
       "                              job-location  \\\n",
       "0          Delhi NCR, Bengaluru, Hyderabad   \n",
       "1                 Pune, Bengaluru, Gurgaon   \n",
       "2                 Pune, Bengaluru, Gurgaon   \n",
       "3                                  Gurgaon   \n",
       "4                                  Gurgaon   \n",
       "5  Gandhinagar, Delhi NCR, Mumbai, Gurgaon   \n",
       "6                                Delhi NCR   \n",
       "7                                    Noida   \n",
       "8    Delhi NCR(Patparganj Industrial Area)   \n",
       "9          Delhi NCR, Bengaluru, Hyderabad   \n",
       "\n",
       "                          company_name                    salary  \n",
       "0        ACHYUTAS SOFT PRIVATE LIMITED   3,50,000 - 8,50,000 PA.  \n",
       "1   Aerial Telecom Solutions Pvt. Ltd.  5,00,000 - 15,00,000 PA.  \n",
       "2   Aerial Telecom Solutions Pvt. Ltd.  5,00,000 - 15,00,000 PA.  \n",
       "3                PureSoftware Pvt Ltd.             Not disclosed  \n",
       "4                World Wide Technology             Not disclosed  \n",
       "5          BA Continuum India Pvt. Ltd             Not disclosed  \n",
       "6       Myfuture Placement Consultancy   2,00,000 - 3,00,000 PA.  \n",
       "7                                Jubna             Not disclosed  \n",
       "8      KNOWLEDGE EXCEL PRIVATE LIMITED             Not disclosed  \n",
       "9  Imbibe Consultancy Services Pvt Ltd  5,00,000 - 15,00,000 PA.  "
      ]
     },
     "execution_count": 353,
     "metadata": {},
     "output_type": "execute_result"
    }
   ],
   "source": [
    "naukri_filter_df"
   ]
  },
  {
   "cell_type": "code",
   "execution_count": null,
   "metadata": {},
   "outputs": [],
   "source": []
  }
 ],
 "metadata": {
  "kernelspec": {
   "display_name": "Python 3",
   "language": "python",
   "name": "python3"
  },
  "language_info": {
   "codemirror_mode": {
    "name": "ipython",
    "version": 3
   },
   "file_extension": ".py",
   "mimetype": "text/x-python",
   "name": "python",
   "nbconvert_exporter": "python",
   "pygments_lexer": "ipython3",
   "version": "3.8.3"
  }
 },
 "nbformat": 4,
 "nbformat_minor": 4
}
